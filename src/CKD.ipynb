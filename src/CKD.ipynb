{
 "cells": [
  {
   "cell_type": "markdown",
   "metadata": {},
   "source": [
    "## Chronic Kidney Disease Dataset analysis\n",
    "\n",
    "This notebook analyzes dataset obtained from patients diagnosed with Chronic Kidney Diease (CKD). The dataset includes demographic details, lifestyle factors, medical history, clinical measurements, medication usage, symptoms, quality of life scores, environmental exposures, and health behaviors.\n",
    "\n",
    "Source: https://www.kaggle.com/datasets/rabieelkharoua/chronic-kidney-disease-dataset-analysis\n",
    "\n",
    "Contributors: Adithya Hadidi, Kateryna Skoropad, Zarrin Rasizadeh, Anjali Deshpande"
   ]
  },
  {
   "cell_type": "code",
   "execution_count": 116,
   "metadata": {
    "ExecuteTime": {
     "end_time": "2024-06-24T00:48:39.875567Z",
     "start_time": "2024-06-24T00:48:39.844523600Z"
    }
   },
   "outputs": [],
   "source": [
    "# Import standard libraries in this section\n",
    "import numpy as np \n",
    "import pandas as pd \n",
    "import warnings\n",
    "warnings.filterwarnings(\"ignore\")\n",
    "\n",
    "import matplotlib.pyplot as plt\n",
    "import seaborn as sns\n",
    "\n",
    "from sklearn.preprocessing import MinMaxScaler"
   ]
  },
  {
   "cell_type": "markdown",
   "metadata": {},
   "source": [
    "## Data exploration"
   ]
  },
  {
   "cell_type": "code",
   "execution_count": 117,
   "metadata": {
    "ExecuteTime": {
     "end_time": "2024-06-24T00:48:39.890268500Z",
     "start_time": "2024-06-24T00:48:39.879566300Z"
    }
   },
   "outputs": [],
   "source": [
    "df = pd.read_csv(\"../data/raw/Chronic_Kidney_Dsease_data.csv\")\n",
    "columns_to_drop = [\"DoctorInCharge\",\"PatientID\"]\n",
    "random_seed=1234"
   ]
  },
  {
   "cell_type": "markdown",
   "metadata": {},
   "source": [
    "## 1. Data Cleaning and Preprocessing"
   ]
  },
  {
   "cell_type": "markdown",
   "metadata": {},
   "source": [
    "Drop *PatientID* and *DoctorInCharge* columns since they don't provide any information. "
   ]
  },
  {
   "cell_type": "code",
   "execution_count": 118,
   "metadata": {
    "ExecuteTime": {
     "end_time": "2024-06-24T00:48:39.899587Z",
     "start_time": "2024-06-24T00:48:39.891771400Z"
    }
   },
   "outputs": [],
   "source": [
    "\n",
    "def clean_data(raw_data,response_column=None, columns=None):\n",
    "    if columns is None:\n",
    "        columns = []\n",
    "    ## copying Predictor variable data to a new variable\n",
    "    predictor_data=raw_data.copy()\n",
    "    columns.append(response_column)\n",
    "    predictor_data.drop(columns,axis=1,inplace=True)\n",
    "    predictor_data.columns = predictor_data.iloc[0]\n",
    "    predictor_data = predictor_data[1:]\n",
    "    response_data=raw_data[response_column]\n",
    "    response_data.columns = response_data.iloc[0]\n",
    "    response_data = response_data[1:]\n",
    "    return predictor_data,response_data\n",
    "\n",
    "X_data,Y_data=clean_data(raw_data=df,response_column='Diagnosis',columns=columns_to_drop)\n"
   ]
  },
  {
   "cell_type": "code",
   "execution_count": 134,
   "metadata": {
    "ExecuteTime": {
     "end_time": "2024-06-24T00:49:13.585276100Z",
     "start_time": "2024-06-24T00:49:13.578849300Z"
    }
   },
   "outputs": [
    {
     "data": {
      "text/plain": "array([[-0.4590366 ,  0.96911366,  0.28641052, ...,  1.33484267,\n        -0.82990193, -1.33089271],\n       [ 1.24448031,  0.96911366,  0.28641052, ..., -0.15384241,\n         1.20527153,  0.7732094 ],\n       [-0.99442763,  0.96911366, -0.71331294, ...,  0.63583659,\n        -0.20923491,  0.54863117],\n       ...,\n       [-0.79973998, -1.03187071,  1.28613399, ...,  0.39966027,\n        -1.48936586,  0.23454879],\n       [ 1.58518369,  0.96911366, -0.71331294, ...,  1.33363393,\n        -0.38601889,  0.09986323],\n       [-0.55638042,  0.96911366,  1.28613399, ...,  0.49505193,\n         0.29404644, -0.84873031]])"
     },
     "execution_count": 134,
     "metadata": {},
     "output_type": "execute_result"
    }
   ],
   "source": [
    "from sklearn.model_selection import train_test_split\n",
    "##standardizing data.\n",
    "from sklearn.preprocessing import StandardScaler\n",
    "def standardize_data(data):\n",
    "    return StandardScaler().fit_transform(data) \n",
    "standard_X_data = standardize_data(X_data)\n",
    "X_train, X_test, y_train, y_test = train_test_split(standard_X_data, Y_data, test_size=0.2, random_state=random_seed)\n"
   ]
  },
  {
   "cell_type": "code",
   "outputs": [
    {
     "name": "stdout",
     "output_type": "stream",
     "text": [
      "[0.91855204 0.91855204 0.91855204 0.91855204 0.91855204 0.91855204\n",
      " 0.91855204 0.91855204 0.91855204 0.91855204 0.91855204 0.91855204\n",
      " 0.91855204 0.91855204 0.91855204 0.91855204 0.91855204 0.91855204\n",
      " 0.91855204 0.91855204 0.91855204 0.91855204 0.91855204 0.91855204\n",
      " 0.91855204 0.91855204 0.91855204 0.91855204 0.91855204 0.91855204\n",
      " 0.91855204 0.91855204 0.91855204 0.91855204 0.91855204 0.91855204\n",
      " 0.91855204 0.91855204 0.91855204 0.91855204 0.91855204 0.91855204\n",
      " 0.91855204 0.91855204 0.91855204 0.91855204 0.91855204 0.91855204\n",
      " 0.91855204 0.91855204 0.91855204 0.91855204 0.91855204 0.91855204\n",
      " 0.91855204 0.91855204 0.91855204 0.91855204 0.91855204 0.91855204\n",
      " 0.91855204 0.91855204 0.91855204 0.91855204 0.91855204 0.91855204\n",
      " 0.91855204 0.91855204 0.91855204 0.91855204 0.91855204 0.91855204\n",
      " 0.91855204 0.91855204 0.91855204 0.91855204 0.91855204 0.91855204\n",
      " 0.91855204 0.91855204 0.91855204 0.91855204 0.91855204 0.91855204\n",
      " 0.91855204 0.91855204 0.91855204 0.91855204 0.91855204 0.91855204\n",
      " 0.91855204 0.91855204 0.91855204 0.91855204 0.91855204 0.91855204\n",
      " 0.91855204 0.91855204 0.91855204 0.91855204 0.91855204 0.91855204\n",
      " 0.91855204 0.91855204 0.91855204 0.91855204 0.91855204 0.91855204\n",
      " 0.91855204 0.91855204 0.91855204 0.91855204 0.91855204 0.91855204\n",
      " 0.91855204 0.91855204 0.91855204 0.91855204 0.91855204 0.91855204\n",
      " 0.91855204 0.91855204 0.91855204 0.91855204 0.91855204 0.91855204\n",
      " 0.91855204 0.91855204 0.91855204 0.91855204 0.91855204 0.91855204\n",
      " 0.91855204 0.91855204 0.91855204 0.91855204 0.91855204 0.91855204\n",
      " 0.91855204 0.91855204 0.91855204 0.91855204 0.91855204 0.91855204\n",
      " 0.91855204 0.91855204 0.91855204 0.91855204 0.91855204 0.91855204\n",
      " 0.91855204 0.91855204 0.91855204 0.91855204 0.91855204 0.91855204\n",
      " 0.91855204 0.91855204 0.91855204 0.91855204 0.91855204 0.91855204\n",
      " 0.91855204 0.91855204 0.91855204 0.91855204 0.91855204 0.91855204\n",
      " 0.91855204 0.91855204 0.91855204 0.91855204 0.91855204 0.91855204\n",
      " 0.91855204 0.91855204 0.91855204 0.91855204 0.91855204 0.91855204\n",
      " 0.91855204 0.91855204 0.91855204 0.91855204 0.91855204 0.91855204\n",
      " 0.91855204 0.91855204 0.91855204 0.91855204 0.91855204 0.91855204\n",
      " 0.91855204 0.91855204 0.91855204 0.91855204 0.91855204 0.91855204\n",
      " 0.91855204 0.91855204 0.91855204 0.91855204 0.91855204 0.91855204\n",
      " 0.91855204 0.91855204 0.91855204 0.91855204 0.91855204 0.91855204\n",
      " 0.91855204 0.91855204 0.91855204 0.91855204 0.91855204 0.91855204\n",
      " 0.91855204 0.91855204 0.91855204 0.91855204 0.91855204 0.91855204\n",
      " 0.91855204 0.91855204 0.91855204 0.91855204 0.91855204 0.91855204\n",
      " 0.91855204 0.91855204 0.91855204 0.91855204 0.91855204 0.91855204\n",
      " 0.91855204 0.91855204 0.91855204 0.91855204 0.91855204 0.91855204\n",
      " 0.91855204 0.91855204 0.91855204 0.91855204 0.91855204 0.91855204\n",
      " 0.91855204 0.91855204 0.91855204 0.91855204 0.91855204 0.91855204\n",
      " 0.91855204 0.91855204 0.91855204 0.91855204 0.91855204 0.91855204\n",
      " 0.91855204 0.91855204 0.91855204 0.91855204 0.91855204 0.91855204\n",
      " 0.91855204 0.91855204 0.91855204 0.91855204 0.91855204 0.91855204\n",
      " 0.91855204 0.91855204 0.91855204 0.91855204 0.91855204 0.91855204\n",
      " 0.91855204 0.91855204 0.91855204 0.91855204 0.91855204 0.91855204\n",
      " 0.91855204 0.91855204 0.91855204 0.91855204 0.91855204 0.91855204\n",
      " 0.91855204 0.91855204 0.91855204 0.91855204 0.91855204 0.91855204\n",
      " 0.91855204 0.91855204 0.91855204 0.91855204 0.91855204 0.91855204\n",
      " 0.91855204 0.91855204 0.91855204 0.91855204 0.91855204 0.91855204\n",
      " 0.91855204 0.91855204 0.91855204 0.91855204 0.91855204 0.91855204\n",
      " 0.91855204 0.91855204 0.91855204 0.91855204 0.91855204 0.91855204\n",
      " 0.91855204 0.91855204 0.91855204 0.91855204 0.91855204 0.91855204\n",
      " 0.91855204 0.91855204 0.91855204 0.91855204 0.91855204 0.91855204\n",
      " 0.91855204 0.91855204]\n"
     ]
    }
   ],
   "source": [
    "#implement lasso regression with MSE (Mean squared error) as the predictor variables exhibit covariance.\n",
    "from sklearn.linear_model import Lasso\n",
    "from sklearn.metrics import mean_squared_error\n",
    "lasso = Lasso(alpha=0.1)\n",
    "lasso.fit(X_train, y_train)\n",
    "y_pred_lasso = lasso.predict(X_test)\n",
    "lasso_mse = mean_squared_error(y_test, y_pred_lasso)\n"
   ],
   "metadata": {
    "collapsed": false,
    "ExecuteTime": {
     "end_time": "2024-06-24T00:53:20.469505400Z",
     "start_time": "2024-06-24T00:53:20.462224400Z"
    }
   },
   "execution_count": 138
  },
  {
   "cell_type": "markdown",
   "metadata": {},
   "source": [
    "## 2. Univariate Analysis\n",
    "\n",
    "(Source: https://www.geeksforgeeks.org/what-is-exploratory-data-analysis/)"
   ]
  },
  {
   "cell_type": "markdown",
   "metadata": {},
   "source": [
    "Display summary statistics for numerical and categorical columns\n",
    "\n",
    "Display each feature with its count, mean, std deviation, min, max and 25%, 50%, 75% percentiles indicating the distribution of values."
   ]
  },
  {
   "cell_type": "code",
   "execution_count": 120,
   "metadata": {
    "ExecuteTime": {
     "end_time": "2024-06-24T00:48:39.952910700Z",
     "start_time": "2024-06-24T00:48:39.905359300Z"
    }
   },
   "outputs": [
    {
     "data": {
      "text/plain": "         PatientID          Age       Gender   Ethnicity  SocioeconomicStatus  \\\ncount  1659.000000  1659.000000  1659.000000  1659.00000          1659.000000   \nmean    830.000000    54.441230     0.515371     0.71308             0.977697   \nstd     479.056364    20.549757     0.499914     1.00043             0.776686   \nmin       1.000000    20.000000     0.000000     0.00000             0.000000   \n25%     415.500000    36.000000     0.000000     0.00000             0.000000   \n50%     830.000000    54.000000     1.000000     0.00000             1.000000   \n75%    1244.500000    72.000000     1.000000     1.00000             2.000000   \nmax    1659.000000    90.000000     1.000000     3.00000             2.000000   \n\n       EducationLevel          BMI      Smoking  AlcoholConsumption  \\\ncount     1659.000000  1659.000000  1659.000000         1659.000000   \nmean         1.693189    27.620049     0.292948            9.969831   \nstd          0.910611     7.288670     0.455252            5.798787   \nmin          0.000000    15.033888     0.000000            0.021740   \n25%          1.000000    21.471449     0.000000            5.051156   \n50%          2.000000    27.652077     0.000000            9.951503   \n75%          2.000000    34.015849     1.000000           14.967100   \nmax          3.000000    39.993532     1.000000           19.992713   \n\n       PhysicalActivity  DietQuality  SleepQuality  \\\ncount       1659.000000  1659.000000   1659.000000   \nmean           5.024247     5.028544      6.942324   \nstd            2.866274     2.865777      1.704159   \nmin            0.001186     0.002407      4.001053   \n25%            2.555038     2.558443      5.487083   \n50%            5.072395     4.989810      6.933255   \n75%            7.460563     7.428290      8.346298   \nmax            9.998167     9.998927      9.984197   \n\n       FamilyHistoryKidneyDisease  FamilyHistoryHypertension  \\\ncount                 1659.000000                1659.000000   \nmean                     0.141049                   0.301386   \nstd                      0.348177                   0.458998   \nmin                      0.000000                   0.000000   \n25%                      0.000000                   0.000000   \n50%                      0.000000                   0.000000   \n75%                      0.000000                   1.000000   \nmax                      1.000000                   1.000000   \n\n       FamilyHistoryDiabetes  PreviousAcuteKidneyInjury  \\\ncount            1659.000000                1659.000000   \nmean                0.257384                   0.105485   \nstd                 0.437325                   0.307270   \nmin                 0.000000                   0.000000   \n25%                 0.000000                   0.000000   \n50%                 0.000000                   0.000000   \n75%                 1.000000                   0.000000   \nmax                 1.000000                   1.000000   \n\n       UrinaryTractInfections   SystolicBP  DiastolicBP  FastingBloodSugar  \\\ncount             1659.000000  1659.000000  1659.000000        1659.000000   \nmean                 0.210368   134.392405    89.313442         132.529429   \nstd                  0.407693    25.767794    17.354479          36.563035   \nmin                  0.000000    90.000000    60.000000          70.044768   \n25%                  0.000000   113.000000    75.000000         100.504503   \n50%                  0.000000   134.000000    89.000000         131.478423   \n75%                  0.000000   157.000000   104.000000         163.108151   \nmax                  1.000000   179.000000   119.000000         199.960429   \n\n             HbA1c  SerumCreatinine    BUNLevels          GFR  ProteinInUrine  \\\ncount  1659.000000      1659.000000  1659.000000  1659.000000     1659.000000   \nmean      6.983682         2.753198    27.578147    66.829202        2.493736   \nstd       1.734714         1.317168    12.808062    30.050836        1.449695   \nmin       4.000405         0.501799     5.000249    15.107850        0.000900   \n25%       5.494988         1.583255    16.398275    41.149324        1.226335   \n50%       6.988001         2.732006    28.077796    66.555207        2.505260   \n75%       8.523562         3.889830    38.127391    92.388269        3.748696   \nmax       9.998393         4.998637    49.990522   119.920261        4.996343   \n\n               ACR  SerumElectrolytesSodium  SerumElectrolytesPotassium  \\\ncount  1659.000000              1659.000000                 1659.000000   \nmean    149.881615               139.968984                    4.505336   \nstd      86.850287                 2.905595                    0.583963   \nmin       0.178427               135.006489                    3.503408   \n25%      76.784343               137.483563                    3.993559   \n50%     150.195312               139.863171                    4.505416   \n75%     225.057873               142.534461                    5.022982   \nmax     299.580019               144.987495                    5.499781   \n\n       SerumElectrolytesCalcium  SerumElectrolytesPhosphorus  \\\ncount               1659.000000                  1659.000000   \nmean                   9.489156                     3.505543   \nstd                    0.574849                     0.576634   \nmin                    8.500033                     2.503727   \n25%                    9.004488                     2.984834   \n50%                    9.470789                     3.511712   \n75%                    9.983515                     4.009621   \nmax                   10.499944                     4.498314   \n\n       HemoglobinLevels  CholesterolTotal  CholesterolLDL  CholesterolHDL  \\\ncount       1659.000000       1659.000000     1659.000000     1659.000000   \nmean          13.927304        224.251158      125.044597       60.746861   \nstd            2.338372         43.666586       42.645021       23.170415   \nmin           10.004223        150.015707       50.074597       20.030993   \n25%           11.839478        186.440971       87.660348       41.252078   \n50%           13.909388        223.202106      126.537520       61.845056   \n75%           16.012084        262.681917      159.887298       80.388199   \nmax           17.999656        299.950846      199.909911       99.987304   \n\n       CholesterolTriglycerides  ACEInhibitors    Diuretics    NSAIDsUse  \\\ncount               1659.000000    1659.000000  1659.000000  1659.000000   \nmean                 224.804603       0.295359     0.318264     5.011715   \nstd                  100.321757       0.456341     0.465943     2.869813   \nmin                   50.267668       0.000000     0.000000     0.000469   \n25%                  140.235507       0.000000     0.000000     2.619890   \n50%                  226.466365       0.000000     0.000000     5.078511   \n75%                  309.782788       1.000000     1.000000     7.485980   \nmax                  399.919138       1.000000     1.000000     9.999397   \n\n           Statins  AntidiabeticMedications        Edema  FatigueLevels  \\\ncount  1659.000000              1659.000000  1659.000000    1659.000000   \nmean      0.380952                 0.202532     0.201929       5.016697   \nstd       0.485767                 0.402007     0.401560       2.896311   \nmin       0.000000                 0.000000     0.000000       0.015194   \n25%       0.000000                 0.000000     0.000000       2.464695   \n50%       0.000000                 0.000000     0.000000       5.117247   \n75%       1.000000                 0.000000     0.000000       7.565993   \nmax       1.000000                 1.000000     1.000000       9.988238   \n\n       NauseaVomiting  MuscleCramps      Itching  QualityOfLifeScore  \\\ncount     1659.000000   1659.000000  1659.000000         1659.000000   \nmean         3.482121      3.525510     5.054869           49.730659   \nstd          1.986292      2.026131     2.880460           27.827593   \nmin          0.005171      0.006327     0.013697            0.087256   \n25%          1.750661      1.820793     2.532867           26.991708   \n50%          3.519894      3.572522     5.087086           48.970075   \n75%          5.253156      5.254956     7.552093           73.913997   \nmax          6.997332      6.984636     9.998313           99.987510   \n\n       HeavyMetalsExposure  OccupationalExposureChemicals  WaterQuality  \\\ncount          1659.000000                    1659.000000   1659.000000   \nmean              0.044002                       0.103074      0.197107   \nstd               0.205162                       0.304147      0.397934   \nmin               0.000000                       0.000000      0.000000   \n25%               0.000000                       0.000000      0.000000   \n50%               0.000000                       0.000000      0.000000   \n75%               0.000000                       0.000000      0.000000   \nmax               1.000000                       1.000000      1.000000   \n\n       MedicalCheckupsFrequency  MedicationAdherence  HealthLiteracy  \\\ncount               1659.000000          1659.000000     1659.000000   \nmean                   2.000336             4.947788        5.144973   \nstd                    1.141635             2.869959        2.901138   \nmin                    0.001082             0.005392        0.004436   \n25%                    1.005802             2.498119        2.569561   \n50%                    2.040635             4.974069        5.182949   \n75%                    2.947213             7.499783        7.733253   \nmax                    3.999469             9.992345        9.993754   \n\n         Diagnosis  \ncount  1659.000000  \nmean      0.918626  \nstd       0.273492  \nmin       0.000000  \n25%       1.000000  \n50%       1.000000  \n75%       1.000000  \nmax       1.000000  ",
      "text/html": "<div>\n<style scoped>\n    .dataframe tbody tr th:only-of-type {\n        vertical-align: middle;\n    }\n\n    .dataframe tbody tr th {\n        vertical-align: top;\n    }\n\n    .dataframe thead th {\n        text-align: right;\n    }\n</style>\n<table border=\"1\" class=\"dataframe\">\n  <thead>\n    <tr style=\"text-align: right;\">\n      <th></th>\n      <th>PatientID</th>\n      <th>Age</th>\n      <th>Gender</th>\n      <th>Ethnicity</th>\n      <th>SocioeconomicStatus</th>\n      <th>EducationLevel</th>\n      <th>BMI</th>\n      <th>Smoking</th>\n      <th>AlcoholConsumption</th>\n      <th>PhysicalActivity</th>\n      <th>DietQuality</th>\n      <th>SleepQuality</th>\n      <th>FamilyHistoryKidneyDisease</th>\n      <th>FamilyHistoryHypertension</th>\n      <th>FamilyHistoryDiabetes</th>\n      <th>PreviousAcuteKidneyInjury</th>\n      <th>UrinaryTractInfections</th>\n      <th>SystolicBP</th>\n      <th>DiastolicBP</th>\n      <th>FastingBloodSugar</th>\n      <th>HbA1c</th>\n      <th>SerumCreatinine</th>\n      <th>BUNLevels</th>\n      <th>GFR</th>\n      <th>ProteinInUrine</th>\n      <th>ACR</th>\n      <th>SerumElectrolytesSodium</th>\n      <th>SerumElectrolytesPotassium</th>\n      <th>SerumElectrolytesCalcium</th>\n      <th>SerumElectrolytesPhosphorus</th>\n      <th>HemoglobinLevels</th>\n      <th>CholesterolTotal</th>\n      <th>CholesterolLDL</th>\n      <th>CholesterolHDL</th>\n      <th>CholesterolTriglycerides</th>\n      <th>ACEInhibitors</th>\n      <th>Diuretics</th>\n      <th>NSAIDsUse</th>\n      <th>Statins</th>\n      <th>AntidiabeticMedications</th>\n      <th>Edema</th>\n      <th>FatigueLevels</th>\n      <th>NauseaVomiting</th>\n      <th>MuscleCramps</th>\n      <th>Itching</th>\n      <th>QualityOfLifeScore</th>\n      <th>HeavyMetalsExposure</th>\n      <th>OccupationalExposureChemicals</th>\n      <th>WaterQuality</th>\n      <th>MedicalCheckupsFrequency</th>\n      <th>MedicationAdherence</th>\n      <th>HealthLiteracy</th>\n      <th>Diagnosis</th>\n    </tr>\n  </thead>\n  <tbody>\n    <tr>\n      <th>count</th>\n      <td>1659.000000</td>\n      <td>1659.000000</td>\n      <td>1659.000000</td>\n      <td>1659.00000</td>\n      <td>1659.000000</td>\n      <td>1659.000000</td>\n      <td>1659.000000</td>\n      <td>1659.000000</td>\n      <td>1659.000000</td>\n      <td>1659.000000</td>\n      <td>1659.000000</td>\n      <td>1659.000000</td>\n      <td>1659.000000</td>\n      <td>1659.000000</td>\n      <td>1659.000000</td>\n      <td>1659.000000</td>\n      <td>1659.000000</td>\n      <td>1659.000000</td>\n      <td>1659.000000</td>\n      <td>1659.000000</td>\n      <td>1659.000000</td>\n      <td>1659.000000</td>\n      <td>1659.000000</td>\n      <td>1659.000000</td>\n      <td>1659.000000</td>\n      <td>1659.000000</td>\n      <td>1659.000000</td>\n      <td>1659.000000</td>\n      <td>1659.000000</td>\n      <td>1659.000000</td>\n      <td>1659.000000</td>\n      <td>1659.000000</td>\n      <td>1659.000000</td>\n      <td>1659.000000</td>\n      <td>1659.000000</td>\n      <td>1659.000000</td>\n      <td>1659.000000</td>\n      <td>1659.000000</td>\n      <td>1659.000000</td>\n      <td>1659.000000</td>\n      <td>1659.000000</td>\n      <td>1659.000000</td>\n      <td>1659.000000</td>\n      <td>1659.000000</td>\n      <td>1659.000000</td>\n      <td>1659.000000</td>\n      <td>1659.000000</td>\n      <td>1659.000000</td>\n      <td>1659.000000</td>\n      <td>1659.000000</td>\n      <td>1659.000000</td>\n      <td>1659.000000</td>\n      <td>1659.000000</td>\n    </tr>\n    <tr>\n      <th>mean</th>\n      <td>830.000000</td>\n      <td>54.441230</td>\n      <td>0.515371</td>\n      <td>0.71308</td>\n      <td>0.977697</td>\n      <td>1.693189</td>\n      <td>27.620049</td>\n      <td>0.292948</td>\n      <td>9.969831</td>\n      <td>5.024247</td>\n      <td>5.028544</td>\n      <td>6.942324</td>\n      <td>0.141049</td>\n      <td>0.301386</td>\n      <td>0.257384</td>\n      <td>0.105485</td>\n      <td>0.210368</td>\n      <td>134.392405</td>\n      <td>89.313442</td>\n      <td>132.529429</td>\n      <td>6.983682</td>\n      <td>2.753198</td>\n      <td>27.578147</td>\n      <td>66.829202</td>\n      <td>2.493736</td>\n      <td>149.881615</td>\n      <td>139.968984</td>\n      <td>4.505336</td>\n      <td>9.489156</td>\n      <td>3.505543</td>\n      <td>13.927304</td>\n      <td>224.251158</td>\n      <td>125.044597</td>\n      <td>60.746861</td>\n      <td>224.804603</td>\n      <td>0.295359</td>\n      <td>0.318264</td>\n      <td>5.011715</td>\n      <td>0.380952</td>\n      <td>0.202532</td>\n      <td>0.201929</td>\n      <td>5.016697</td>\n      <td>3.482121</td>\n      <td>3.525510</td>\n      <td>5.054869</td>\n      <td>49.730659</td>\n      <td>0.044002</td>\n      <td>0.103074</td>\n      <td>0.197107</td>\n      <td>2.000336</td>\n      <td>4.947788</td>\n      <td>5.144973</td>\n      <td>0.918626</td>\n    </tr>\n    <tr>\n      <th>std</th>\n      <td>479.056364</td>\n      <td>20.549757</td>\n      <td>0.499914</td>\n      <td>1.00043</td>\n      <td>0.776686</td>\n      <td>0.910611</td>\n      <td>7.288670</td>\n      <td>0.455252</td>\n      <td>5.798787</td>\n      <td>2.866274</td>\n      <td>2.865777</td>\n      <td>1.704159</td>\n      <td>0.348177</td>\n      <td>0.458998</td>\n      <td>0.437325</td>\n      <td>0.307270</td>\n      <td>0.407693</td>\n      <td>25.767794</td>\n      <td>17.354479</td>\n      <td>36.563035</td>\n      <td>1.734714</td>\n      <td>1.317168</td>\n      <td>12.808062</td>\n      <td>30.050836</td>\n      <td>1.449695</td>\n      <td>86.850287</td>\n      <td>2.905595</td>\n      <td>0.583963</td>\n      <td>0.574849</td>\n      <td>0.576634</td>\n      <td>2.338372</td>\n      <td>43.666586</td>\n      <td>42.645021</td>\n      <td>23.170415</td>\n      <td>100.321757</td>\n      <td>0.456341</td>\n      <td>0.465943</td>\n      <td>2.869813</td>\n      <td>0.485767</td>\n      <td>0.402007</td>\n      <td>0.401560</td>\n      <td>2.896311</td>\n      <td>1.986292</td>\n      <td>2.026131</td>\n      <td>2.880460</td>\n      <td>27.827593</td>\n      <td>0.205162</td>\n      <td>0.304147</td>\n      <td>0.397934</td>\n      <td>1.141635</td>\n      <td>2.869959</td>\n      <td>2.901138</td>\n      <td>0.273492</td>\n    </tr>\n    <tr>\n      <th>min</th>\n      <td>1.000000</td>\n      <td>20.000000</td>\n      <td>0.000000</td>\n      <td>0.00000</td>\n      <td>0.000000</td>\n      <td>0.000000</td>\n      <td>15.033888</td>\n      <td>0.000000</td>\n      <td>0.021740</td>\n      <td>0.001186</td>\n      <td>0.002407</td>\n      <td>4.001053</td>\n      <td>0.000000</td>\n      <td>0.000000</td>\n      <td>0.000000</td>\n      <td>0.000000</td>\n      <td>0.000000</td>\n      <td>90.000000</td>\n      <td>60.000000</td>\n      <td>70.044768</td>\n      <td>4.000405</td>\n      <td>0.501799</td>\n      <td>5.000249</td>\n      <td>15.107850</td>\n      <td>0.000900</td>\n      <td>0.178427</td>\n      <td>135.006489</td>\n      <td>3.503408</td>\n      <td>8.500033</td>\n      <td>2.503727</td>\n      <td>10.004223</td>\n      <td>150.015707</td>\n      <td>50.074597</td>\n      <td>20.030993</td>\n      <td>50.267668</td>\n      <td>0.000000</td>\n      <td>0.000000</td>\n      <td>0.000469</td>\n      <td>0.000000</td>\n      <td>0.000000</td>\n      <td>0.000000</td>\n      <td>0.015194</td>\n      <td>0.005171</td>\n      <td>0.006327</td>\n      <td>0.013697</td>\n      <td>0.087256</td>\n      <td>0.000000</td>\n      <td>0.000000</td>\n      <td>0.000000</td>\n      <td>0.001082</td>\n      <td>0.005392</td>\n      <td>0.004436</td>\n      <td>0.000000</td>\n    </tr>\n    <tr>\n      <th>25%</th>\n      <td>415.500000</td>\n      <td>36.000000</td>\n      <td>0.000000</td>\n      <td>0.00000</td>\n      <td>0.000000</td>\n      <td>1.000000</td>\n      <td>21.471449</td>\n      <td>0.000000</td>\n      <td>5.051156</td>\n      <td>2.555038</td>\n      <td>2.558443</td>\n      <td>5.487083</td>\n      <td>0.000000</td>\n      <td>0.000000</td>\n      <td>0.000000</td>\n      <td>0.000000</td>\n      <td>0.000000</td>\n      <td>113.000000</td>\n      <td>75.000000</td>\n      <td>100.504503</td>\n      <td>5.494988</td>\n      <td>1.583255</td>\n      <td>16.398275</td>\n      <td>41.149324</td>\n      <td>1.226335</td>\n      <td>76.784343</td>\n      <td>137.483563</td>\n      <td>3.993559</td>\n      <td>9.004488</td>\n      <td>2.984834</td>\n      <td>11.839478</td>\n      <td>186.440971</td>\n      <td>87.660348</td>\n      <td>41.252078</td>\n      <td>140.235507</td>\n      <td>0.000000</td>\n      <td>0.000000</td>\n      <td>2.619890</td>\n      <td>0.000000</td>\n      <td>0.000000</td>\n      <td>0.000000</td>\n      <td>2.464695</td>\n      <td>1.750661</td>\n      <td>1.820793</td>\n      <td>2.532867</td>\n      <td>26.991708</td>\n      <td>0.000000</td>\n      <td>0.000000</td>\n      <td>0.000000</td>\n      <td>1.005802</td>\n      <td>2.498119</td>\n      <td>2.569561</td>\n      <td>1.000000</td>\n    </tr>\n    <tr>\n      <th>50%</th>\n      <td>830.000000</td>\n      <td>54.000000</td>\n      <td>1.000000</td>\n      <td>0.00000</td>\n      <td>1.000000</td>\n      <td>2.000000</td>\n      <td>27.652077</td>\n      <td>0.000000</td>\n      <td>9.951503</td>\n      <td>5.072395</td>\n      <td>4.989810</td>\n      <td>6.933255</td>\n      <td>0.000000</td>\n      <td>0.000000</td>\n      <td>0.000000</td>\n      <td>0.000000</td>\n      <td>0.000000</td>\n      <td>134.000000</td>\n      <td>89.000000</td>\n      <td>131.478423</td>\n      <td>6.988001</td>\n      <td>2.732006</td>\n      <td>28.077796</td>\n      <td>66.555207</td>\n      <td>2.505260</td>\n      <td>150.195312</td>\n      <td>139.863171</td>\n      <td>4.505416</td>\n      <td>9.470789</td>\n      <td>3.511712</td>\n      <td>13.909388</td>\n      <td>223.202106</td>\n      <td>126.537520</td>\n      <td>61.845056</td>\n      <td>226.466365</td>\n      <td>0.000000</td>\n      <td>0.000000</td>\n      <td>5.078511</td>\n      <td>0.000000</td>\n      <td>0.000000</td>\n      <td>0.000000</td>\n      <td>5.117247</td>\n      <td>3.519894</td>\n      <td>3.572522</td>\n      <td>5.087086</td>\n      <td>48.970075</td>\n      <td>0.000000</td>\n      <td>0.000000</td>\n      <td>0.000000</td>\n      <td>2.040635</td>\n      <td>4.974069</td>\n      <td>5.182949</td>\n      <td>1.000000</td>\n    </tr>\n    <tr>\n      <th>75%</th>\n      <td>1244.500000</td>\n      <td>72.000000</td>\n      <td>1.000000</td>\n      <td>1.00000</td>\n      <td>2.000000</td>\n      <td>2.000000</td>\n      <td>34.015849</td>\n      <td>1.000000</td>\n      <td>14.967100</td>\n      <td>7.460563</td>\n      <td>7.428290</td>\n      <td>8.346298</td>\n      <td>0.000000</td>\n      <td>1.000000</td>\n      <td>1.000000</td>\n      <td>0.000000</td>\n      <td>0.000000</td>\n      <td>157.000000</td>\n      <td>104.000000</td>\n      <td>163.108151</td>\n      <td>8.523562</td>\n      <td>3.889830</td>\n      <td>38.127391</td>\n      <td>92.388269</td>\n      <td>3.748696</td>\n      <td>225.057873</td>\n      <td>142.534461</td>\n      <td>5.022982</td>\n      <td>9.983515</td>\n      <td>4.009621</td>\n      <td>16.012084</td>\n      <td>262.681917</td>\n      <td>159.887298</td>\n      <td>80.388199</td>\n      <td>309.782788</td>\n      <td>1.000000</td>\n      <td>1.000000</td>\n      <td>7.485980</td>\n      <td>1.000000</td>\n      <td>0.000000</td>\n      <td>0.000000</td>\n      <td>7.565993</td>\n      <td>5.253156</td>\n      <td>5.254956</td>\n      <td>7.552093</td>\n      <td>73.913997</td>\n      <td>0.000000</td>\n      <td>0.000000</td>\n      <td>0.000000</td>\n      <td>2.947213</td>\n      <td>7.499783</td>\n      <td>7.733253</td>\n      <td>1.000000</td>\n    </tr>\n    <tr>\n      <th>max</th>\n      <td>1659.000000</td>\n      <td>90.000000</td>\n      <td>1.000000</td>\n      <td>3.00000</td>\n      <td>2.000000</td>\n      <td>3.000000</td>\n      <td>39.993532</td>\n      <td>1.000000</td>\n      <td>19.992713</td>\n      <td>9.998167</td>\n      <td>9.998927</td>\n      <td>9.984197</td>\n      <td>1.000000</td>\n      <td>1.000000</td>\n      <td>1.000000</td>\n      <td>1.000000</td>\n      <td>1.000000</td>\n      <td>179.000000</td>\n      <td>119.000000</td>\n      <td>199.960429</td>\n      <td>9.998393</td>\n      <td>4.998637</td>\n      <td>49.990522</td>\n      <td>119.920261</td>\n      <td>4.996343</td>\n      <td>299.580019</td>\n      <td>144.987495</td>\n      <td>5.499781</td>\n      <td>10.499944</td>\n      <td>4.498314</td>\n      <td>17.999656</td>\n      <td>299.950846</td>\n      <td>199.909911</td>\n      <td>99.987304</td>\n      <td>399.919138</td>\n      <td>1.000000</td>\n      <td>1.000000</td>\n      <td>9.999397</td>\n      <td>1.000000</td>\n      <td>1.000000</td>\n      <td>1.000000</td>\n      <td>9.988238</td>\n      <td>6.997332</td>\n      <td>6.984636</td>\n      <td>9.998313</td>\n      <td>99.987510</td>\n      <td>1.000000</td>\n      <td>1.000000</td>\n      <td>1.000000</td>\n      <td>3.999469</td>\n      <td>9.992345</td>\n      <td>9.993754</td>\n      <td>1.000000</td>\n    </tr>\n  </tbody>\n</table>\n</div>"
     },
     "execution_count": 120,
     "metadata": {},
     "output_type": "execute_result"
    }
   ],
   "source": [
    "\n",
    "# Display all columns \n",
    "pd.set_option('display.max_columns', None)  # None means unlimited\n",
    "pd.set_option('display.width', None)  # None means unlimited width\n",
    "df.describe(exclude=None)\n"
   ]
  },
  {
   "cell_type": "markdown",
   "metadata": {},
   "source": [
    "For the numerical variables, visualizing distributions using histograms, box plots, or density plots to understand the spread and skewness of data."
   ]
  },
  {
   "cell_type": "code",
   "execution_count": 121,
   "metadata": {
    "ExecuteTime": {
     "end_time": "2024-06-24T00:48:39.957908300Z",
     "start_time": "2024-06-24T00:48:39.954571400Z"
    }
   },
   "outputs": [],
   "source": [
    "# Add code for histogram showing 'Diagnosis' as x-axis and count as y-axis\n",
    "\n",
    "# Zarrin\n",
    "### To be done"
   ]
  },
  {
   "cell_type": "markdown",
   "metadata": {},
   "source": [
    "The dataset contains large number of clinical measurements. For simplicity, lets just take 'GFR' and 'ProteinInUrine' to draw a scatter plot"
   ]
  },
  {
   "cell_type": "code",
   "execution_count": 122,
   "metadata": {
    "ExecuteTime": {
     "end_time": "2024-06-24T00:48:39.975730Z",
     "start_time": "2024-06-24T00:48:39.957404600Z"
    }
   },
   "outputs": [],
   "source": [
    "# Add code for scatter plot\n",
    "\n",
    "# Katreyna\n",
    "### To be done"
   ]
  },
  {
   "cell_type": "markdown",
   "metadata": {},
   "source": [
    "Scatterplot showing 'GFR' and 'SerumCreatinine'"
   ]
  },
  {
   "cell_type": "code",
   "execution_count": 123,
   "metadata": {
    "ExecuteTime": {
     "end_time": "2024-06-24T00:48:39.975730Z",
     "start_time": "2024-06-24T00:48:39.958912900Z"
    }
   },
   "outputs": [],
   "source": [
    "# Add code for scatter plot\n",
    "\n",
    "# Katreyna \n",
    "### To be done"
   ]
  },
  {
   "cell_type": "markdown",
   "metadata": {},
   "source": [
    "\n",
    "For categorical variables, Frequency tables and bar charts to examine the distribution of categorical variables such as Gender, Ethnicity, Education Level, Smoking status, etc."
   ]
  },
  {
   "cell_type": "markdown",
   "metadata": {},
   "source": [
    "Distribution summary or frequency table for all the categorical variables"
   ]
  },
  {
   "cell_type": "code",
   "execution_count": 124,
   "metadata": {
    "ExecuteTime": {
     "end_time": "2024-06-24T00:48:39.993713200Z",
     "start_time": "2024-06-24T00:48:39.963676700Z"
    }
   },
   "outputs": [],
   "source": [
    "# Add code for frequency tables/bar charts for categorical features\n",
    "\n",
    "\n",
    "categorical_features = [\n",
    "    # demographic\n",
    "    'Age', 'Gender', 'Ethnicity', 'SocioeconomicStatus', 'EducationLevel', \n",
    "    # Lifestyle\n",
    "    'Smoking', \n",
    "    # Medical History\n",
    "    'FamilyHistoryKidneyDisease', 'FamilyHistoryHypertension',\n",
    "    'FamilyHistoryDiabetes', 'PreviousAcuteKidneyInjury', \n",
    "    'UrinaryTractInfections',\n",
    "    # Medications\n",
    "    'ACEInhibitors', 'Diuretics', 'NSAIDsUse', 'Statins', 'AntidiabeticMedications', \n",
    "    # Symptoms and Quality of Life\n",
    "    'Edema', \n",
    "    # Environmental and Occupational Exposures\n",
    "    'HeavyMetalsExposure', 'OccupationalExposureChemicals', 'WaterQuality'\n",
    "    ]\n",
    "\n",
    "\n",
    "\n",
    "# Zarrin\n",
    "### To be done"
   ]
  },
  {
   "cell_type": "markdown",
   "metadata": {},
   "source": [
    "## 3. Bivariate Analysis"
   ]
  },
  {
   "cell_type": "markdown",
   "metadata": {},
   "source": [
    "### 1. Correlation Analysis\n",
    "\n",
    "Compute Pearson correlation coefficients between pairs of numerical variables (All variables or a set of variables: e.g., Serum Creatinine vs. GFR, Blood Pressure vs. GFR) to understand relationships.\n"
   ]
  },
  {
   "cell_type": "code",
   "execution_count": 125,
   "metadata": {
    "ExecuteTime": {
     "end_time": "2024-06-24T00:48:39.993713200Z",
     "start_time": "2024-06-24T00:48:39.966352200Z"
    }
   },
   "outputs": [],
   "source": [
    "# Add code for correlation matrix\n",
    "\n",
    "\n",
    "# Anjali\n",
    "### To be done"
   ]
  },
  {
   "cell_type": "markdown",
   "metadata": {},
   "source": [
    "\n",
    "Visualize correlations using heatmaps to identify strong correlations (>0.5 or <-0.5) among variables.\n",
    "\n",
    "Intrepret Correlation coefficient from the heatmap to indicate positive/negative/0/strength of relationships. For eg: test association of Edema and CKD diagnosis"
   ]
  },
  {
   "cell_type": "code",
   "execution_count": 126,
   "metadata": {
    "ExecuteTime": {
     "end_time": "2024-06-24T00:48:39.993713200Z",
     "start_time": "2024-06-24T00:48:39.968937600Z"
    }
   },
   "outputs": [],
   "source": [
    "# Add code for correlation heatmap\n",
    "\n",
    "\n",
    "# Adithya\n",
    "### To be done"
   ]
  },
  {
   "cell_type": "markdown",
   "metadata": {},
   "source": [
    "### 2. Relationships with CKD\n",
    "\n",
    "Compare distributions of numerical variables (e.g., Age, BMI, clinical measurements) between CKD and non-CKD groups using box plots.\n",
    "For example: Boxplot to show distribution of SerumCreatinine levels between patients diagnosed with CKD and those without CKD.\n",
    "Box-plot make it easy to identify outliers and will help in understanding quality of data\n"
   ]
  },
  {
   "cell_type": "code",
   "execution_count": 127,
   "metadata": {
    "ExecuteTime": {
     "end_time": "2024-06-24T00:48:39.993713200Z",
     "start_time": "2024-06-24T00:48:39.971685400Z"
    }
   },
   "outputs": [],
   "source": [
    "# Add code for box plot\n",
    "\n",
    "\n",
    "# Katreyna\n",
    "### To be done"
   ]
  },
  {
   "cell_type": "markdown",
   "metadata": {},
   "source": [
    "\n",
    "Use t-tests to assess statistical differences in means between groups for continuous variables.\n",
    "\n",
    "E.g: Perform a t-test to see if there is a significant difference in the Serum Creatinine levels (SerumCreatinine) between patients diagnosed with Chronic Kidney Disease (CKD) (Diagnosis = 1) and those without CKD (Diagnosis = 0).\n",
    "\n",
    "Make the Hypothesis statement and Alternative hypothesis statement."
   ]
  },
  {
   "cell_type": "code",
   "execution_count": 128,
   "metadata": {
    "ExecuteTime": {
     "end_time": "2024-06-24T00:48:39.994715600Z",
     "start_time": "2024-06-24T00:48:39.973194400Z"
    }
   },
   "outputs": [],
   "source": [
    "# add code for t-test\n",
    "\n",
    "# Adithya\n",
    "### To be done"
   ]
  },
  {
   "cell_type": "markdown",
   "metadata": {},
   "source": [
    "## Models"
   ]
  },
  {
   "cell_type": "markdown",
   "metadata": {},
   "source": [
    "Lets find what factors can predict the likelihood of a patient having Chronic Kidney Disease (CKD)?\n",
    "\n",
    "## Logistic Regression\n",
    "\n",
    "Lets use logistic regression to model the probability of CKD based on predictor variables. \n",
    "Variables: Age, Gender, Ethnicity, Clinical measurements, Lifestyle factors, Medical history as predictors (all variables); CKD diagnosis (Diagnosis) as the binary response variable.\n",
    "\n"
   ]
  },
  {
   "cell_type": "code",
   "execution_count": 129,
   "metadata": {
    "ExecuteTime": {
     "end_time": "2024-06-24T00:48:39.995714900Z",
     "start_time": "2024-06-24T00:48:39.976780700Z"
    }
   },
   "outputs": [],
   "source": [
    "# add code here\n",
    "\n",
    "# Kateryna\n",
    "### To be done"
   ]
  },
  {
   "cell_type": "markdown",
   "metadata": {},
   "source": [
    "Plots to show the model:\n",
    "\n",
    "1. ROC curve: Plot sensitivity vs. 1-specificity to evaluate model performance.\n",
    "\n",
    "2. Variable coefficient plot: Display coefficients of predictors to understand their impact on CKD likelihood."
   ]
  },
  {
   "cell_type": "code",
   "execution_count": 130,
   "metadata": {
    "ExecuteTime": {
     "end_time": "2024-06-24T00:48:39.995714900Z",
     "start_time": "2024-06-24T00:48:39.980110300Z"
    }
   },
   "outputs": [],
   "source": [
    "# Add code here\n",
    "\n",
    "# Anjali\n",
    "### To be done"
   ]
  },
  {
   "cell_type": "markdown",
   "metadata": {},
   "source": [
    "## Logistic regression analysis to determine odds ratios\n",
    "\n",
    "Perform logistic regression analysis to determine odds ratios and assess the significance of variables such as hypertension, diabetes, and medication use in relation to Chronic Kidney Disease (CKD).\n",
    "Choosing the following independent variables (predictors) to include in the logistic regression model:\n",
    "\n",
    "1. Hypertension (FamilyHistoryHypertension)\n",
    "2. Diabetes (FamilyHistoryDiabetes or AntidiabeticMedications)\n",
    "3. Medication use (ACEInhibitors, Diuretics, Statins, NSAIDsUse, etc.)"
   ]
  },
  {
   "cell_type": "code",
   "execution_count": 131,
   "metadata": {
    "ExecuteTime": {
     "end_time": "2024-06-24T00:48:40.016242Z",
     "start_time": "2024-06-24T00:48:39.982589500Z"
    }
   },
   "outputs": [],
   "source": [
    "# Add code here\n",
    "\n",
    "# Anjali\n",
    "### To be done"
   ]
  },
  {
   "cell_type": "markdown",
   "metadata": {},
   "source": [
    "## KNN Model\n",
    "\n",
    "Use k-Nearest Neighbors to predict the outcome of Chronic Kidney Disease based on the dataset. Use all predictor variables and/or a set of variables to train and test the model.  Use classification metrics such as accuracy, precision, recall, and F1-score to evaluate how well the k-NN model predicts CKD compared to actual outcomes in the test set. "
   ]
  },
  {
   "cell_type": "code",
   "execution_count": 132,
   "metadata": {
    "ExecuteTime": {
     "end_time": "2024-06-24T00:48:40.016242Z",
     "start_time": "2024-06-24T00:48:39.985312700Z"
    }
   },
   "outputs": [],
   "source": [
    "# Add code here\n",
    "\n",
    "# Anjali\n",
    "### To be done"
   ]
  },
  {
   "cell_type": "markdown",
   "metadata": {},
   "source": [
    "## Linear Regression\n",
    "\n",
    "Add action item here"
   ]
  },
  {
   "cell_type": "markdown",
   "metadata": {},
   "source": [
    "\n",
    "# add description and action item"
   ]
  },
  {
   "cell_type": "code",
   "execution_count": 133,
   "metadata": {
    "ExecuteTime": {
     "end_time": "2024-06-24T00:48:40.016242Z",
     "start_time": "2024-06-24T00:48:39.986822700Z"
    }
   },
   "outputs": [],
   "source": [
    "# Add code here\n",
    "\n",
    "# Zarrin\n",
    "### To be done"
   ]
  }
 ],
 "metadata": {
  "kernelspec": {
   "display_name": "base",
   "language": "python",
   "name": "python3"
  },
  "language_info": {
   "codemirror_mode": {
    "name": "ipython",
    "version": 3
   },
   "file_extension": ".py",
   "mimetype": "text/x-python",
   "name": "python",
   "nbconvert_exporter": "python",
   "pygments_lexer": "ipython3",
   "version": "3.9.15"
  }
 },
 "nbformat": 4,
 "nbformat_minor": 2
}
